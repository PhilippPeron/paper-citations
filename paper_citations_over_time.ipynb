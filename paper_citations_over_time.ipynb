{
 "cells": [
  {
   "cell_type": "markdown",
   "metadata": {
    "collapsed": true,
    "pycharm": {
     "name": "#%% md\n"
    }
   },
   "source": [
    "# Paper Citations Over Time"
   ]
  },
  {
   "cell_type": "code",
   "execution_count": 17,
   "outputs": [],
   "source": [
    "import requests\n",
    "import matplotlib.pyplot as plt\n",
    "import numpy as np\n",
    "from datetime import date\n",
    "\n",
    "def get_citation_data(paper_id):\n",
    "    # Search for the paper on Semantic Scholar\n",
    "    # Documentation: https://api.semanticscholar.org/api-docs/graph#tag/Paper-Data/operation/get_graph_get_paper_citations\n",
    "    url = f'https://api.semanticscholar.org/graph/v1/paper/{paper_id}/citations?fields=title,year,authors,citationCount,isInfluential&limit=1000'\n",
    "    response = requests.get(url)\n",
    "\n",
    "    if response.status_code == 200:\n",
    "        data = response.json()\n",
    "        return data\n",
    "    else:\n",
    "        print(f\"Failed to retrieve paper data. Status code: {response.status_code}\")\n",
    "        return None\n",
    "\n",
    "# Get data about all the papers that cited the given paper\n",
    "citation_data = get_citation_data(paper_id=\"CorpusID:233296808\")['data']"
   ],
   "metadata": {
    "collapsed": false,
    "pycharm": {
     "name": "#%%\n"
    }
   }
  },
  {
   "cell_type": "code",
   "execution_count": null,
   "outputs": [],
   "source": [
    "# Convert json to three sperate dictioniories that contain the count of citations\n",
    "influential_count = {}\n",
    "noninfluential_count = {}\n",
    "total_count = {}\n",
    "for citing_paper in citation_data:\n",
    "    year = citing_paper['citingPaper']['year']\n",
    "    is_influential = citing_paper['isInfluential']\n",
    "    try:\n",
    "        total_count[year] += 1\n",
    "    except KeyError:\n",
    "        total_count[year] = 0\n",
    "    if is_influential:\n",
    "        try:\n",
    "            influential_count[year] += 1\n",
    "        except KeyError:\n",
    "            influential_count[year] = 0\n",
    "    else:\n",
    "        try:\n",
    "            noninfluential_count[year] += 1\n",
    "        except KeyError:\n",
    "            noninfluential_count[year] = 0\n",
    "\n",
    "# Remove unwanted keys from dicts\n",
    "for counter_dict in influential_count, noninfluential_count, total_count:\n",
    "    for drop_key in [2020, None]:\n",
    "        if drop_key in counter_dict.keys():\n",
    "            counter_dict.pop(drop_key)"
   ],
   "metadata": {
    "collapsed": false,
    "pycharm": {
     "name": "#%%\n"
    }
   }
  },
  {
   "cell_type": "code",
   "execution_count": 73,
   "outputs": [
    {
     "name": "stdout",
     "output_type": "stream",
     "text": [
      "234\n"
     ]
    },
    {
     "data": {
      "text/plain": "<Figure size 432x288 with 1 Axes>",
      "image/png": "[encoded data removed]"
     },
     "metadata": {
      "needs_background": "light"
     },
     "output_type": "display_data"
    }
   ],
   "source": [
    "# Get time until the end of the year\n",
    "f_date = date.today()\n",
    "l_date = date(2023, 12, 31)\n",
    "delta = l_date - f_date\n",
    "print(delta.days)\n",
    "\n",
    "years = [2023, 2022, 2021]\n",
    "weight_counts = {\n",
    "    \"Non-Influential\": [count for _, count in noninfluential_count.items()],\n",
    "    \"Influential\": [count for _, count in influential_count.items()],\n",
    "}\n",
    "\n",
    "# Create the Barplot\n",
    "width = 0.5\n",
    "fig, ax = plt.subplots()\n",
    "bottom = np.array([0,0,0])\n",
    "extrapolated_number = int(total_count[2023]/((365-float(delta.days))/365))\n",
    "p = ax.bar(years, [extrapolated_number,0,0], width, label='Extrapolated', bottom=0, color='white', edgecolor='blue', hatch=\"/\")\n",
    "p = ax.bar(years, weight_counts[\"Non-Influential\"], width, label='Non-Influential', bottom=[0,0,0], color='green')\n",
    "p = ax.bar(years, weight_counts[\"Influential\"], width, label='Influential', bottom=weight_counts['Non-Influential'],color='red')\n",
    "ax.set_title(\"Citations over Time\")\n",
    "ax.legend(loc=\"upper left\")\n",
    "ax.xaxis.set_ticks(np.arange(2021, 2024, 1.0))\n",
    "\n",
    "plt.xlabel(\"Years\")\n",
    "plt.ylabel(\"Number of Citations\")\n",
    "plt.show()\n",
    "#fig.savefig(\"citations_over_time.svg\", format=\"svg\", dpi=1200)\n",
    "#fig.savefig(\"citations_over_time.png\", format=\"png\", dpi=1200)\n"
   ],
   "metadata": {
    "collapsed": false,
    "pycharm": {
     "name": "#%%\n"
    }
   }
  },
  {
   "cell_type": "code",
   "execution_count": null,
   "outputs": [],
   "source": [],
   "metadata": {
    "collapsed": false,
    "pycharm": {
     "name": "#%%\n"
    }
   }
  }
 ],
 "metadata": {
  "kernelspec": {
   "name": "jupyterlabvenv38",
   "language": "python",
   "display_name": "JupyterLabVenv38"
  },
  "language_info": {
   "codemirror_mode": {
    "name": "ipython",
    "version": 2
   },
   "file_extension": ".py",
   "mimetype": "text/x-python",
   "name": "python",
   "nbconvert_exporter": "python",
   "pygments_lexer": "ipython2",
   "version": "2.7.6"
  }
 },
 "nbformat": 4,
 "nbformat_minor": 0
}